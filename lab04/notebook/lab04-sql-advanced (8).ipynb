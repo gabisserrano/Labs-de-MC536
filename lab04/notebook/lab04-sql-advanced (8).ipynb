{
 "cells": [
  {
   "cell_type": "code",
   "execution_count": 1,
   "metadata": {},
   "outputs": [],
   "source": [
    "%defaultDatasource jdbc:h2:mem:db"
   ]
  },
  {
   "cell_type": "markdown",
   "metadata": {},
   "source": [
    "# Analisando o Uso de Medicamentos\n",
    "* Esta tarefa analisará os dados conforme três abordagens: análise do comportamento estatístico; análise de correlação entre pares; análise de correlação de variáveis.\n",
    "* A partir dos arquivos CSV que estão no diretórios /data/nhanes considere as seguintes tabelas SQL."
   ]
  },
  {
   "cell_type": "code",
   "execution_count": 2,
   "metadata": {},
   "outputs": [],
   "source": [
    "DROP Table IF EXISTS Person;\n",
    "DROP Table IF EXISTS Drug;\n",
    "DROP Table IF EXISTS DrugUse;"
   ]
  },
  {
   "cell_type": "code",
   "execution_count": 3,
   "metadata": {},
   "outputs": [],
   "source": [
    "CREATE TABLE Person (\n",
    "  Id VARCHAR(5) NOT NULL,\n",
    "  Gender INTEGER,\n",
    "  Age INTEGER,\n",
    "  PRIMARY KEY(Id)\n",
    ") AS SELECT\n",
    "    id,\n",
    "    gender,\n",
    "    age\n",
    "FROM CSVREAD('../data/demographic-person.csv');\n",
    "\n",
    "CREATE TABLE Drug (\n",
    "  Code VARCHAR(6) NOT NULL,\n",
    "  Name VARCHAR(100) NOT NULL,\n",
    "  PRIMARY KEY(Code)\n",
    ") AS SELECT\n",
    "    code,\n",
    "    name\n",
    "FROM CSVREAD('../data/medications-drug.csv');\n",
    "\n",
    "CREATE TABLE DrugUse (\n",
    "  PersonId VARCHAR(5) NOT NULL,\n",
    "  DrugCode VARCHAR(6) NOT NULL,\n",
    "  DaysUse INTEGER,\n",
    "  FOREIGN KEY(PersonId)\n",
    "    REFERENCES Person(Id)\n",
    "      ON DELETE NO ACTION\n",
    "      ON UPDATE NO ACTION,\n",
    "  FOREIGN KEY(DrugCode)\n",
    "    REFERENCES Drug(Code)\n",
    "      ON DELETE NO ACTION\n",
    "      ON UPDATE NO ACTION\n",
    ") AS SELECT\n",
    "    person_id,\n",
    "    drug_code,\n",
    "    days_use\n",
    "FROM CSVREAD('../data/medications-use.csv');"
   ]
  },
  {
   "cell_type": "code",
   "execution_count": 4,
   "metadata": {},
   "outputs": [
    {
     "data": {
      "application/vnd.jupyter.widget-view+json": {
       "model_id": "ec6699ee-83c4-403e-872e-e7c56b43b3c1",
       "version_major": 2,
       "version_minor": 0
      },
      "method": "display_data"
     },
     "metadata": {},
     "output_type": "display_data"
    },
    {
     "data": {
      "application/vnd.jupyter.widget-view+json": {
       "model_id": "f4619646-26f9-4dec-ba1e-9a2e55df3e26",
       "version_major": 2,
       "version_minor": 0
      },
      "method": "display_data"
     },
     "metadata": {},
     "output_type": "display_data"
    },
    {
     "data": {
      "application/vnd.jupyter.widget-view+json": {
       "model_id": "220ba5ad-6087-4547-8f9b-3a91f1760f00",
       "version_major": 2,
       "version_minor": 0
      },
      "method": "display_data"
     },
     "metadata": {},
     "output_type": "display_data"
    }
   ],
   "source": [
    "SELECT * FROM Person;\n",
    "SELECT * FROM Drug;\n",
    "SELECT * FROM DrugUse"
   ]
  },
  {
   "cell_type": "markdown",
   "metadata": {},
   "source": [
    "# I. Análise de comportamento estatístico"
   ]
  },
  {
   "cell_type": "markdown",
   "metadata": {},
   "source": [
    "## 1) Contabilizando o uso de medicamentos\n",
    "\n",
    "* Liste o nome de todos os medicamentos e a quantidade de pessoas que usa cada um deles."
   ]
  },
  {
   "cell_type": "code",
   "execution_count": 5,
   "metadata": {},
   "outputs": [
    {
     "data": {
      "application/vnd.jupyter.widget-view+json": {
       "model_id": "33c03f2d-94ea-4937-8dfa-76d86137be94",
       "version_major": 2,
       "version_minor": 0
      },
      "method": "display_data"
     },
     "metadata": {},
     "output_type": "display_data"
    }
   ],
   "source": [
    "SELECT DISTINCT Drug.Name, COUNT (*) Quantidade FROM Drug, DrugUse WHERE Drug.Code = DrugUse.DrugCode GROUP BY Drug.Name;"
   ]
  },
  {
   "cell_type": "markdown",
   "metadata": {},
   "source": [
    "## 2) Medicamento mais usado com VIEW\n",
    "\n",
    "* Informe o código do medicamento mais usado: fazendo uso de VIEW."
   ]
  },
  {
   "cell_type": "code",
   "execution_count": 6,
   "metadata": {},
   "outputs": [
    {
     "data": {
      "text/plain": [
       "d00732"
      ]
     },
     "execution_count": 6,
     "metadata": {},
     "output_type": "execute_result"
    }
   ],
   "source": [
    "CREATE VIEW Contagem_Medicamentos AS SELECT DISTINCT DrugUse.DrugCode, COUNT (*) Quantidade FROM DrugUse GROUP BY DrugUse.DrugCode;\n",
    "SELECT Contagem_Medicamentos.DrugCode FROM Contagem_Medicamentos WHERE Quantidade IN (SELECT MAX(Quantidade) FROM Contagem_Medicamentos);"
   ]
  },
  {
   "cell_type": "markdown",
   "metadata": {},
   "source": [
    "## 3) Medicamento mais usado sem VIEW\n",
    "\n",
    "* Informe o código do medicamento mais usado: sem fazer uso de VIEW."
   ]
  },
  {
   "cell_type": "code",
   "execution_count": 7,
   "metadata": {},
   "outputs": [
    {
     "data": {
      "text/plain": [
       "d00732"
      ]
     },
     "execution_count": 7,
     "metadata": {},
     "output_type": "execute_result"
    }
   ],
   "source": [
    "SELECT DrugCode FROM (SELECT DISTINCT DrugUse.DrugCode, COUNT (*) Quantidade FROM DrugUse GROUP BY DrugUse.DrugCode) WHERE Quantidade IN  (SELECT MAX(Quantidade) FROM  (SELECT DISTINCT DrugUse.DrugCode, COUNT (*) Quantidade FROM DrugUse GROUP BY DrugUse.DrugCode) ); "
   ]
  },
  {
   "cell_type": "markdown",
   "metadata": {},
   "source": [
    "## 4) Nome do medicamento mais usado\n",
    "* Informe o nome do medicamento mais usado (uso de VIEW é opcional)."
   ]
  },
  {
   "cell_type": "code",
   "execution_count": 8,
   "metadata": {},
   "outputs": [
    {
     "data": {
      "text/plain": [
       "LISINOPRIL"
      ]
     },
     "execution_count": 8,
     "metadata": {},
     "output_type": "execute_result"
    }
   ],
   "source": [
    "CREATE VIEW Contagem_Medicamento_N AS SELECT DISTINCT Drug.Name, COUNT (*) Quantidade FROM Drug, DrugUse WHERE Drug.Code = DrugUse.DrugCode GROUP BY Drug.Name;\n",
    "SELECT Contagem_Medicamento_N.Name FROM Contagem_Medicamento_N WHERE Quantidade IN (SELECT MAX(Quantidade) FROM Contagem_Medicamento_N);"
   ]
  },
  {
   "cell_type": "markdown",
   "metadata": {},
   "source": [
    "## 5) Contabilizando quanto as pessoas usam de medicamento\n",
    "\n",
    "* Informe o número médio de uso de medicamento por pessoa."
   ]
  },
  {
   "cell_type": "code",
   "execution_count": 9,
   "metadata": {},
   "outputs": [
    {
     "data": {
      "text/plain": [
       "3"
      ]
     },
     "execution_count": 9,
     "metadata": {},
     "output_type": "execute_result"
    }
   ],
   "source": [
    "CREATE VIEW Pessoas_Nmedicamentos AS SELECT DISTINCT DrugUse.PersonId, COUNT (*) QuantMed FROM DrugUse GROUP BY DrugUse.PersonId;\n",
    "SELECT AVG(QuantMed) FROM Pessoas_Nmedicamentos;"
   ]
  },
  {
   "cell_type": "markdown",
   "metadata": {},
   "source": [
    "## 6) Pessoas que usam mais do que a média\n",
    "\n",
    "* Liste o id das pessoas que usam mais medicamentos do que a média."
   ]
  },
  {
   "cell_type": "code",
   "execution_count": 10,
   "metadata": {},
   "outputs": [
    {
     "data": {
      "application/vnd.jupyter.widget-view+json": {
       "model_id": "44006a88-fa71-41de-961a-f4a233e63e23",
       "version_major": 2,
       "version_minor": 0
      },
      "method": "display_data"
     },
     "metadata": {},
     "output_type": "display_data"
    }
   ],
   "source": [
    "SELECT Pessoas_Nmedicamentos.PersonId FROM Pessoas_Nmedicamentos WHERE QuantMed > (SELECT AVG(QuantMed) FROM Pessoas_Nmedicamentos);"
   ]
  },
  {
   "cell_type": "markdown",
   "metadata": {},
   "source": [
    "## 7) Análise do uso de medicamento\n",
    "\n",
    "* Considere que um médico quer fazer responder a seguinte questão: pessoas tendem a usar mais medicamentos conforme ficam mais velhas?\n",
    "* Escreva uma query que ajude o médico a realizar esta análise."
   ]
  },
  {
   "cell_type": "code",
   "execution_count": 11,
   "metadata": {},
   "outputs": [
    {
     "data": {
      "application/vnd.jupyter.widget-view+json": {
       "model_id": "5bbfd0cf-7939-45a4-98be-b7d22a3ec4a6",
       "version_major": 2,
       "version_minor": 0
      },
      "method": "display_data"
     },
     "metadata": {},
     "output_type": "display_data"
    },
    {
     "data": {
      "application/vnd.jupyter.widget-view+json": {
       "model_id": "4ba8d973-568c-40c8-8096-793dfdd3dbf8",
       "version_major": 2,
       "version_minor": 0
      },
      "method": "display_data"
     },
     "metadata": {},
     "output_type": "display_data"
    },
    {
     "data": {
      "application/vnd.jupyter.widget-view+json": {
       "model_id": "eb864ef9-8120-445f-87d6-016d501f20ed",
       "version_major": 2,
       "version_minor": 0
      },
      "method": "display_data"
     },
     "metadata": {},
     "output_type": "display_data"
    }
   ],
   "source": [
    "CREATE VIEW Nmedicamento_Pessoas18 AS SELECT DISTINCT DrugUse.PersonId, COUNT (*) QuantMed18 FROM DrugUse, Person WHERE DrugUse.PersonId = Person.Id and Person.Age < 18 GROUP BY DrugUse.PersonId;\n",
    "SELECT AVG(QuantMed18) FROM Nmedicamento_Pessoas18;\n",
    "CREATE VIEW Nmedicamento_Pessoas60 AS SELECT DISTINCT DrugUse.PersonId, COUNT (*) QuantMed60 FROM DrugUse, Person WHERE DrugUse.PersonId = Person.Id and Person.Age > 17 and  Person.Age < 60 GROUP BY DrugUse.PersonId;\n",
    "SELECT AVG(QuantMed60) FROM Nmedicamento_Pessoas60;\n",
    "CREATE VIEW Nmedicamento_PessoasMais60 AS SELECT DISTINCT DrugUse.PersonId, COUNT (*) QuantMedMais FROM DrugUse, Person WHERE DrugUse.PersonId = Person.Id and  Person.Age > 59 GROUP BY DrugUse.PersonId;\n",
    "SELECT AVG(QuantMedMais) FROM Nmedicamento_PessoasMais60;"
   ]
  },
  {
   "cell_type": "markdown",
   "metadata": {},
   "source": [
    "# Navegando por Hierarquias\n",
    "\n",
    "A seguir exercícios envolvendo navegação por hierarquias."
   ]
  },
  {
   "cell_type": "markdown",
   "metadata": {},
   "source": [
    "# Marcadores e Taxonomia\n",
    "\n",
    "Considere o modelo para `Marcadores` e `Taxonomia`:\n",
    "\n",
    "![UML](marcadores-taxonomia-uml.png)\n",
    "\n",
    "![Relacional](marcadores-taxonomia-er.png)\n",
    "\n",
    "Considere as sentenças SQL a seguir para montar as tabelas de `Marcadores` e `Taxonomia`:"
   ]
  },
  {
   "cell_type": "code",
   "execution_count": 12,
   "metadata": {},
   "outputs": [],
   "source": [
    "DROP TABLE IF EXISTS Taxonomia;\n",
    "DROP TABLE IF EXISTS Marcadores;\n",
    "\n",
    "CREATE TABLE Taxonomia (\n",
    "  Categoria VARCHAR(50) NOT NULL,\n",
    "  Superior  VARCHAR(50),\n",
    "  PRIMARY KEY(Categoria),\n",
    "  FOREIGN KEY(Superior)\n",
    "    REFERENCES Taxonomia(Categoria)\n",
    "      ON DELETE NO ACTION\n",
    "      ON UPDATE CASCADE\n",
    ");\n",
    "\n",
    "CREATE TABLE Marcadores (\n",
    "  Titulo VARCHAR(50) NOT NULL,\n",
    "  Endereco VARCHAR(80) NOT NULL,\n",
    "  Acessos INTEGER,\n",
    "  Categoria VARCHAR(50) NOT NULL,\n",
    "  PRIMARY KEY(Titulo),\n",
    "  FOREIGN KEY(Categoria)\n",
    "    REFERENCES Taxonomia(Categoria)\n",
    "      ON DELETE NO ACTION\n",
    "      ON UPDATE CASCADE\n",
    ");"
   ]
  },
  {
   "cell_type": "markdown",
   "metadata": {},
   "source": [
    "As tabelas são preenchidas com as seguintes tuplas:"
   ]
  },
  {
   "cell_type": "code",
   "execution_count": 13,
   "metadata": {},
   "outputs": [],
   "source": [
    "INSERT INTO Taxonomia VALUES ('Geral', NULL);\n",
    "INSERT INTO Taxonomia VALUES ('Serviços', 'Geral');\n",
    "INSERT INTO Taxonomia VALUES ('Acadêmico', 'Geral');\n",
    "INSERT INTO Taxonomia VALUES ('Relacionamento', 'Geral');\n",
    "INSERT INTO Taxonomia VALUES ('Busca', 'Serviços');\n",
    "INSERT INTO Taxonomia VALUES ('Portal', 'Serviços');\n",
    "INSERT INTO Taxonomia VALUES ('Mail', 'Serviços');\n",
    "INSERT INTO Taxonomia VALUES ('Vendas', 'Serviços');\n",
    "INSERT INTO Taxonomia VALUES ('Universidade', 'Acadêmico');\n",
    "INSERT INTO Taxonomia VALUES ('CG', 'Acadêmico');\n",
    "INSERT INTO Taxonomia VALUES ('Sociedade', 'Acadêmico');\n",
    "INSERT INTO Taxonomia VALUES ('Rede Social', 'Relacionamento');\n",
    "INSERT INTO Taxonomia VALUES ('Marketplace', 'Vendas');\n",
    "INSERT INTO Taxonomia VALUES ('Loja', 'Vendas');\n",
    "INSERT INTO Taxonomia VALUES ('Notícias', 'Portal');\n",
    "INSERT INTO Taxonomia VALUES ('Agregador', 'Portal');\n",
    "\n",
    "INSERT INTO Marcadores VALUES ('Terra', 'http://www.terra.com.br', 295, 'Portal');\n",
    "INSERT INTO Marcadores VALUES ('POVRay', 'http://www.povray.org', 2, 'CG');\n",
    "INSERT INTO Marcadores VALUES ('SBC', 'http://www.sbc.org.br', 26, 'Sociedade');\n",
    "INSERT INTO Marcadores VALUES ('Correios', 'http://www.correios.com.br', 45, 'Serviços');\n",
    "INSERT INTO Marcadores VALUES ('GMail', 'http://www.gmail.com', 296, 'Mail');\n",
    "INSERT INTO Marcadores VALUES ('Google', 'http://www.google.com', 1590, 'Busca');\n",
    "INSERT INTO Marcadores VALUES ('Yahoo', 'http://www.yahoo.com', 134, 'Serviços');\n",
    "INSERT INTO Marcadores VALUES ('Orkut', 'http://www.orkut.com', 45, 'Rede Social');\n",
    "INSERT INTO Marcadores VALUES ('iBahia', 'http://www.ibahia.com', 3, 'Portal');\n",
    "INSERT INTO Marcadores VALUES ('Submarino', 'http://www.submarino.com.br', 320, 'Loja');\n",
    "INSERT INTO Marcadores VALUES ('Amazon', 'https://www.amazon.com.br', 410, 'Marketplace');\n",
    "INSERT INTO Marcadores VALUES ('Americanas', 'https://www.americanas.com.br', 320, 'Loja');\n",
    "INSERT INTO Marcadores VALUES ('Mercado Livre', 'https://www.mercadolivre.com.br', 500, 'Marketplace');\n",
    "INSERT INTO Marcadores VALUES ('G1', 'https://g1.globo.com', 1200, 'Notícias');\n",
    "INSERT INTO Marcadores VALUES ('Folha', 'https://www.folha.uol.com.br', 850, 'Notícias');\n",
    "INSERT INTO Marcadores VALUES ('Google News', 'https://news.google.com', 900, 'Agregador');\n",
    "INSERT INTO Marcadores VALUES ('Flipboard', 'https://flipboard.com', 950, 'Agregador');"
   ]
  },
  {
   "cell_type": "markdown",
   "metadata": {},
   "source": [
    "Conteúdo da tabela `Taxonomia`:"
   ]
  },
  {
   "cell_type": "code",
   "execution_count": 14,
   "metadata": {},
   "outputs": [
    {
     "data": {
      "application/vnd.jupyter.widget-view+json": {
       "model_id": "04c73064-06bf-45a3-ab92-a1744350deb4",
       "version_major": 2,
       "version_minor": 0
      },
      "method": "display_data"
     },
     "metadata": {},
     "output_type": "display_data"
    }
   ],
   "source": [
    "SELECT * FROM Taxonomia;"
   ]
  },
  {
   "cell_type": "markdown",
   "metadata": {},
   "source": [
    "Conteúdo da tabela `Marcadores`:"
   ]
  },
  {
   "cell_type": "code",
   "execution_count": 15,
   "metadata": {},
   "outputs": [
    {
     "data": {
      "application/vnd.jupyter.widget-view+json": {
       "model_id": "6475d7db-7cfa-448c-892d-e7d6eb6128a3",
       "version_major": 2,
       "version_minor": 0
      },
      "method": "display_data"
     },
     "metadata": {},
     "output_type": "display_data"
    }
   ],
   "source": [
    "SELECT * FROM Marcadores;"
   ]
  },
  {
   "cell_type": "markdown",
   "metadata": {},
   "source": [
    "## Tarefa 1\n",
    "\n",
    "Escreva em SQL uma consulta que retorne os marcadores da categoria `Serviços`, sem considerar as categorias subordinadas."
   ]
  },
  {
   "cell_type": "code",
   "execution_count": 17,
   "metadata": {},
   "outputs": [
    {
     "data": {
      "application/vnd.jupyter.widget-view+json": {
       "model_id": "673c0afe-16fd-4d2e-bfdc-d467d5525ede",
       "version_major": 2,
       "version_minor": 0
      },
      "method": "display_data"
     },
     "metadata": {},
     "output_type": "display_data"
    }
   ],
   "source": [
    "SELECT * FROM Marcadores WHERE Marcadores.Categoria = 'Serviços';"
   ]
  },
  {
   "cell_type": "markdown",
   "metadata": {},
   "source": [
    "## Tarefa 2\n",
    "\n",
    "Escreva em SQL uma consulta que retorne os marcadores da categoria `Serviços`, considerando as categorias subordinadas."
   ]
  },
  {
   "cell_type": "code",
   "execution_count": 32,
   "metadata": {},
   "outputs": [
    {
     "data": {
      "application/vnd.jupyter.widget-view+json": {
       "model_id": "5d07ba38-b5d8-456d-9ed7-7e16de07f057",
       "version_major": 2,
       "version_minor": 0
      },
      "method": "display_data"
     },
     "metadata": {},
     "output_type": "display_data"
    }
   ],
   "source": [
    "SELECT * FROM Marcadores WHERE Marcadores.Categoria IN (SELECT Taxonomia.Categoria FROM Taxonomia WHERE Taxonomia.Categoria = 'Serviços'OR Taxonomia.Superior = 'Serviços');"
   ]
  },
  {
   "cell_type": "code",
   "execution_count": null,
   "metadata": {},
   "outputs": [],
   "source": []
  }
 ],
 "metadata": {
  "kernelspec": {
   "display_name": "SQL",
   "language": "SQL",
   "name": "sql"
  },
  "language_info": {
   "codemirror_mode": "sql",
   "file_extension": ".sql",
   "mimetype": "",
   "name": "SQL",
   "nbconverter_exporter": "",
   "version": ""
  },
  "toc": {
   "base_numbering": 1,
   "nav_menu": {},
   "number_sections": false,
   "sideBar": false,
   "skip_h1_title": false,
   "title_cell": "Table of Contents",
   "title_sidebar": "Contents",
   "toc_cell": false,
   "toc_position": {},
   "toc_section_display": false,
   "toc_window_display": false
  }
 },
 "nbformat": 4,
 "nbformat_minor": 4
}
